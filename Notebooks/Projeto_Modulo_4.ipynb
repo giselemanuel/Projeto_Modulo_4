{
 "cells": [
  {
   "cell_type": "markdown",
   "id": "65f3087e-49a0-4ee9-8cf9-96a3743a1731",
   "metadata": {},
   "source": [
    "Testando aqui "
   ]
  },
  {
   "cell_type": "code",
   "execution_count": null,
   "id": "b680a75e-9ac5-49b6-8419-e04c388fe6fa",
   "metadata": {},
   "outputs": [],
   "source": []
  }
 ],
 "metadata": {
  "kernelspec": {
   "display_name": "Python 3",
   "language": "python",
   "name": "python3"
  },
  "language_info": {
   "codemirror_mode": {
    "name": "ipython",
    "version": 3
   },
   "file_extension": ".py",
   "mimetype": "text/x-python",
   "name": "python",
   "nbconvert_exporter": "python",
   "pygments_lexer": "ipython3",
   "version": "3.9.4"
  }
 },
 "nbformat": 4,
 "nbformat_minor": 5
}
